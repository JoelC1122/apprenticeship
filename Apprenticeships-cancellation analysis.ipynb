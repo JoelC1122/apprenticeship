{
 "cells": [
  {
   "cell_type": "markdown",
   "id": "a15850aa",
   "metadata": {},
   "source": [
    "# Introduction\n",
    "This project explores apprenticeship contract cancellations in Australia using NCVER data. The aim is to:\n",
    "1. Identify key drivers behind cancellations through EDA\n",
    "2. Build a ML model to predict the likelihood of cancellation based on the available apprentice features\n"
   ]
  },
  {
   "cell_type": "markdown",
   "id": "5c997622",
   "metadata": {},
   "source": [
    "# 1. Prepare and clean data"
   ]
  },
  {
   "cell_type": "code",
   "execution_count": 1,
   "id": "8624dce3",
   "metadata": {},
   "outputs": [],
   "source": [
    "import pandas as pd"
   ]
  },
  {
   "cell_type": "code",
   "execution_count": 2,
   "id": "3dabb624",
   "metadata": {},
   "outputs": [],
   "source": [
    "#import tables\n",
    "df_cancel = pd.read_excel(\"/Users/joelche/Documents/Projects/Apprenticeships/Apprentice_trainee.xlsx\",sheet_name='cancel', header=None)\n",
    "df_commence = pd.read_excel(\"/Users/joelche/Documents/Projects/Apprenticeships/Apprentice_trainee.xlsx\",sheet_name='commence', header=None)\n",
    "df_complete = pd.read_excel(\"/Users/joelche/Documents/Projects/Apprenticeships/Apprentice_trainee.xlsx\",sheet_name='complete', header=None)"
   ]
  },
  {
   "cell_type": "code",
   "execution_count": 3,
   "id": "8948be47",
   "metadata": {},
   "outputs": [],
   "source": [
    "#function to clean and reshape apprentinceship datasets \n",
    "\n",
    "def clean_data(df_raw, status_type):\n",
    "\n",
    "    #map 'type' to cancel flag\n",
    "    cancel_flag = 1 if status_type == 'cancel' else 0\n",
    "\n",
    "    #extract first 5 rows and transpose to get header columns\n",
    "    multi_col_tuples = list(zip(\n",
    "        df_raw.iloc[0,3:], #industry\n",
    "        df_raw.iloc[1,3:], #occupation\n",
    "        df_raw.iloc[2,3:], #gender\n",
    "        df_raw.iloc[3,3:], #year\n",
    "        df_raw.iloc[4,3:], #quarter\n",
    "    ))\n",
    "\n",
    "    #extract values\n",
    "    #drop second column\n",
    "    df_values = df_raw.drop(df_raw.columns[[0,2]],axis=1).reset_index(drop=True)\n",
    "    #extract values for each state\n",
    "    state_tuples = list(zip(\n",
    "        df_values.iloc[5,1:], #totals\n",
    "        df_values.iloc[6,1:], #NSW\n",
    "        df_values.iloc[7,1:], #VIC\n",
    "        df_values.iloc[8,1:], #QLD\n",
    "        df_values.iloc[9,1:], #SA\n",
    "        df_values.iloc[10,1:], #WA\n",
    "        df_values.iloc[11,1:], #TAS\n",
    "        df_values.iloc[12,1:], #NT\n",
    "        df_values.iloc[13,1:], #ACT\n",
    "    ))\n",
    "\n",
    "\n",
    "    df_dim = pd.DataFrame(multi_col_tuples, columns=['industry','occupation','gender','year','quarter'])\n",
    "    df_state = pd.DataFrame(state_tuples, columns=['totals','NSW','VIC','QLD','SA','WA','TAS','NT','ACT'])\n",
    "\n",
    "    #concatenate dataframes\n",
    "    df_raw = pd.concat([df_dim,df_state],axis=1)\n",
    "\n",
    "\n",
    "    #add binary cancellation column where 1=cancelled and 0=not cancelled\n",
    "    df_raw['cancel'] = cancel_flag\n",
    "\n",
    "    #replace \"-\" with 0\n",
    "    df_raw = df_raw.replace('-',0)\n",
    "\n",
    "    #add \n",
    "    df_raw['type'] = status_type\n",
    "    \n",
    "    return df_raw"
   ]
  },
  {
   "cell_type": "code",
   "execution_count": 4,
   "id": "ea10babf",
   "metadata": {},
   "outputs": [],
   "source": [
    "#apply function to raw data frames\n",
    "df1_cancel = clean_data(df_cancel, 'cancel')\n",
    "df1_commence = clean_data(df_commence, 'commence')\n",
    "df1_complete = clean_data(df_complete, 'complete')"
   ]
  },
  {
   "cell_type": "code",
   "execution_count": 5,
   "id": "d9adf909",
   "metadata": {},
   "outputs": [],
   "source": [
    "#merge common fields\n",
    "df_all = pd.concat([df1_cancel, df1_commence,df1_complete], ignore_index=True)"
   ]
  },
  {
   "cell_type": "code",
   "execution_count": 6,
   "id": "718bf47f",
   "metadata": {},
   "outputs": [],
   "source": [
    "#remove totals column\n",
    "df_all = df_all.drop('totals',axis=1)"
   ]
  },
  {
   "cell_type": "code",
   "execution_count": 7,
   "id": "c3d35363",
   "metadata": {},
   "outputs": [],
   "source": [
    "#melt state columns into long format\n",
    "df1_all = df_all.melt(\n",
    "    id_vars=['occupation','gender','year','quarter','cancel','type'],\n",
    "    value_vars=['NSW','VIC','QLD','SA','WA','TAS','NT','ACT'],\n",
    "    var_name='state',\n",
    "    value_name='count'\n",
    ")"
   ]
  },
  {
   "cell_type": "code",
   "execution_count": 8,
   "id": "3917df4f",
   "metadata": {},
   "outputs": [],
   "source": [
    "#since we are removing the industry column we have to group and aggregate values\n",
    "df2_all = df1_all.groupby(['occupation','gender','year','quarter','state','cancel','type'], as_index=False)['count'].sum()"
   ]
  },
  {
   "cell_type": "code",
   "execution_count": 9,
   "id": "ac6dc9dd",
   "metadata": {},
   "outputs": [],
   "source": [
    "#remove all rows where count==0 \n",
    "df2_all = df2_all[df2_all['count'] > 0]\n"
   ]
  },
  {
   "cell_type": "code",
   "execution_count": 10,
   "id": "d3e91b5a",
   "metadata": {},
   "outputs": [
    {
     "data": {
      "text/html": [
       "<div>\n",
       "<style scoped>\n",
       "    .dataframe tbody tr th:only-of-type {\n",
       "        vertical-align: middle;\n",
       "    }\n",
       "\n",
       "    .dataframe tbody tr th {\n",
       "        vertical-align: top;\n",
       "    }\n",
       "\n",
       "    .dataframe thead th {\n",
       "        text-align: right;\n",
       "    }\n",
       "</style>\n",
       "<table border=\"1\" class=\"dataframe\">\n",
       "  <thead>\n",
       "    <tr style=\"text-align: right;\">\n",
       "      <th></th>\n",
       "      <th>occupation</th>\n",
       "      <th>gender</th>\n",
       "      <th>year</th>\n",
       "      <th>quarter</th>\n",
       "      <th>state</th>\n",
       "      <th>cancel</th>\n",
       "      <th>type</th>\n",
       "      <th>count</th>\n",
       "    </tr>\n",
       "  </thead>\n",
       "  <tbody>\n",
       "    <tr>\n",
       "      <th>0</th>\n",
       "      <td>1112 - General Managers</td>\n",
       "      <td>Females</td>\n",
       "      <td>2019</td>\n",
       "      <td>Apr-Jun</td>\n",
       "      <td>ACT</td>\n",
       "      <td>0</td>\n",
       "      <td>complete</td>\n",
       "      <td>5</td>\n",
       "    </tr>\n",
       "    <tr>\n",
       "      <th>5</th>\n",
       "      <td>1112 - General Managers</td>\n",
       "      <td>Females</td>\n",
       "      <td>2019</td>\n",
       "      <td>Apr-Jun</td>\n",
       "      <td>TAS</td>\n",
       "      <td>0</td>\n",
       "      <td>complete</td>\n",
       "      <td>5</td>\n",
       "    </tr>\n",
       "    <tr>\n",
       "      <th>7</th>\n",
       "      <td>1112 - General Managers</td>\n",
       "      <td>Females</td>\n",
       "      <td>2019</td>\n",
       "      <td>Apr-Jun</td>\n",
       "      <td>WA</td>\n",
       "      <td>0</td>\n",
       "      <td>complete</td>\n",
       "      <td>5</td>\n",
       "    </tr>\n",
       "    <tr>\n",
       "      <th>8</th>\n",
       "      <td>1112 - General Managers</td>\n",
       "      <td>Females</td>\n",
       "      <td>2019</td>\n",
       "      <td>Jul-Sep</td>\n",
       "      <td>ACT</td>\n",
       "      <td>0</td>\n",
       "      <td>complete</td>\n",
       "      <td>10</td>\n",
       "    </tr>\n",
       "    <tr>\n",
       "      <th>14</th>\n",
       "      <td>1112 - General Managers</td>\n",
       "      <td>Females</td>\n",
       "      <td>2019</td>\n",
       "      <td>Jul-Sep</td>\n",
       "      <td>VIC</td>\n",
       "      <td>0</td>\n",
       "      <td>complete</td>\n",
       "      <td>5</td>\n",
       "    </tr>\n",
       "    <tr>\n",
       "      <th>26</th>\n",
       "      <td>1112 - General Managers</td>\n",
       "      <td>Females</td>\n",
       "      <td>2019</td>\n",
       "      <td>Oct-Dec</td>\n",
       "      <td>TAS</td>\n",
       "      <td>0</td>\n",
       "      <td>commence</td>\n",
       "      <td>10</td>\n",
       "    </tr>\n",
       "    <tr>\n",
       "      <th>44</th>\n",
       "      <td>1112 - General Managers</td>\n",
       "      <td>Females</td>\n",
       "      <td>2020</td>\n",
       "      <td>Apr-Jun</td>\n",
       "      <td>SA</td>\n",
       "      <td>0</td>\n",
       "      <td>commence</td>\n",
       "      <td>5</td>\n",
       "    </tr>\n",
       "    <tr>\n",
       "      <th>54</th>\n",
       "      <td>1112 - General Managers</td>\n",
       "      <td>Females</td>\n",
       "      <td>2020</td>\n",
       "      <td>Apr-Jun</td>\n",
       "      <td>WA</td>\n",
       "      <td>0</td>\n",
       "      <td>complete</td>\n",
       "      <td>5</td>\n",
       "    </tr>\n",
       "    <tr>\n",
       "      <th>64</th>\n",
       "      <td>1112 - General Managers</td>\n",
       "      <td>Females</td>\n",
       "      <td>2020</td>\n",
       "      <td>Jul-Sep</td>\n",
       "      <td>ACT</td>\n",
       "      <td>0</td>\n",
       "      <td>complete</td>\n",
       "      <td>10</td>\n",
       "    </tr>\n",
       "    <tr>\n",
       "      <th>65</th>\n",
       "      <td>1112 - General Managers</td>\n",
       "      <td>Females</td>\n",
       "      <td>2020</td>\n",
       "      <td>Jul-Sep</td>\n",
       "      <td>ACT</td>\n",
       "      <td>1</td>\n",
       "      <td>cancel</td>\n",
       "      <td>5</td>\n",
       "    </tr>\n",
       "  </tbody>\n",
       "</table>\n",
       "</div>"
      ],
      "text/plain": [
       "                 occupation   gender  year  quarter state  cancel      type  \\\n",
       "0   1112 - General Managers  Females  2019  Apr-Jun   ACT       0  complete   \n",
       "5   1112 - General Managers  Females  2019  Apr-Jun   TAS       0  complete   \n",
       "7   1112 - General Managers  Females  2019  Apr-Jun    WA       0  complete   \n",
       "8   1112 - General Managers  Females  2019  Jul-Sep   ACT       0  complete   \n",
       "14  1112 - General Managers  Females  2019  Jul-Sep   VIC       0  complete   \n",
       "26  1112 - General Managers  Females  2019  Oct-Dec   TAS       0  commence   \n",
       "44  1112 - General Managers  Females  2020  Apr-Jun    SA       0  commence   \n",
       "54  1112 - General Managers  Females  2020  Apr-Jun    WA       0  complete   \n",
       "64  1112 - General Managers  Females  2020  Jul-Sep   ACT       0  complete   \n",
       "65  1112 - General Managers  Females  2020  Jul-Sep   ACT       1    cancel   \n",
       "\n",
       "    count  \n",
       "0       5  \n",
       "5       5  \n",
       "7       5  \n",
       "8      10  \n",
       "14      5  \n",
       "26     10  \n",
       "44      5  \n",
       "54      5  \n",
       "64     10  \n",
       "65      5  "
      ]
     },
     "execution_count": 10,
     "metadata": {},
     "output_type": "execute_result"
    }
   ],
   "source": [
    "df2_all.head(10)"
   ]
  },
  {
   "cell_type": "code",
   "execution_count": 11,
   "id": "d5f7a723",
   "metadata": {},
   "outputs": [
    {
     "name": "stdout",
     "output_type": "stream",
     "text": [
      "Remaining duplicates: 4879\n"
     ]
    }
   ],
   "source": [
    "#check for duplicate values\n",
    "dupes = df2_all.duplicated(subset=['occupation', 'gender', 'year', 'quarter', 'state', 'cancel'])\n",
    "print(\"Remaining duplicates:\", dupes.sum())"
   ]
  },
  {
   "cell_type": "code",
   "execution_count": 12,
   "id": "390975f0",
   "metadata": {},
   "outputs": [
    {
     "data": {
      "text/plain": [
       "(28584, 8)"
      ]
     },
     "execution_count": 12,
     "metadata": {},
     "output_type": "execute_result"
    }
   ],
   "source": [
    "df2_all.shape"
   ]
  },
  {
   "cell_type": "code",
   "execution_count": 13,
   "id": "6dca6111",
   "metadata": {},
   "outputs": [
    {
     "data": {
      "text/plain": [
       "occupation    212\n",
       "gender          3\n",
       "year            6\n",
       "quarter         4\n",
       "state           8\n",
       "cancel          2\n",
       "type            3\n",
       "count         198\n",
       "dtype: int64"
      ]
     },
     "execution_count": 13,
     "metadata": {},
     "output_type": "execute_result"
    }
   ],
   "source": [
    "df2_all.nunique()"
   ]
  },
  {
   "cell_type": "code",
   "execution_count": 14,
   "id": "c50888db",
   "metadata": {},
   "outputs": [],
   "source": [
    "#remove unknown gender\n",
    "df2_all = df2_all[df2_all['gender'].isin(['Males','Females'])]"
   ]
  },
  {
   "cell_type": "code",
   "execution_count": 15,
   "id": "ef7a339b",
   "metadata": {},
   "outputs": [
    {
     "data": {
      "text/plain": [
       "array(['Females', 'Males'], dtype=object)"
      ]
     },
     "execution_count": 15,
     "metadata": {},
     "output_type": "execute_result"
    }
   ],
   "source": [
    "df2_all['gender'].unique()"
   ]
  },
  {
   "cell_type": "markdown",
   "id": "99ef51d8",
   "metadata": {},
   "source": [
    "# 2. Exploratory Data Analysis"
   ]
  },
  {
   "cell_type": "markdown",
   "id": "9ffe3539",
   "metadata": {},
   "source": [
    "In the exploratory data analysis, I will analyse each feature individually and make an assessment on the impact it has on the cancellation rate of apprenticeship programs\n",
    "\n",
    "The cancellation rate can be defined as the percentage of apprentices who cancelled their training contracts out of all apprentices who are no longer in training (i.e. either cancelled or compmleted)"
   ]
  },
  {
   "cell_type": "markdown",
   "id": "ebe180b3",
   "metadata": {},
   "source": [
    "## 2.1 Gender analysis"
   ]
  },
  {
   "cell_type": "code",
   "execution_count": 16,
   "id": "cd9a868a",
   "metadata": {},
   "outputs": [],
   "source": [
    "import matplotlib.pyplot as plt\n",
    "import seaborn as sns"
   ]
  },
  {
   "cell_type": "code",
   "execution_count": 17,
   "id": "b7341634",
   "metadata": {},
   "outputs": [
    {
     "data": {
      "text/html": [
       "<div>\n",
       "<style scoped>\n",
       "    .dataframe tbody tr th:only-of-type {\n",
       "        vertical-align: middle;\n",
       "    }\n",
       "\n",
       "    .dataframe tbody tr th {\n",
       "        vertical-align: top;\n",
       "    }\n",
       "\n",
       "    .dataframe thead th {\n",
       "        text-align: right;\n",
       "    }\n",
       "</style>\n",
       "<table border=\"1\" class=\"dataframe\">\n",
       "  <thead>\n",
       "    <tr style=\"text-align: right;\">\n",
       "      <th>type</th>\n",
       "      <th>cancel</th>\n",
       "      <th>complete</th>\n",
       "      <th>cancel_rate</th>\n",
       "    </tr>\n",
       "    <tr>\n",
       "      <th>gender</th>\n",
       "      <th></th>\n",
       "      <th></th>\n",
       "      <th></th>\n",
       "    </tr>\n",
       "  </thead>\n",
       "  <tbody>\n",
       "    <tr>\n",
       "      <th>Females</th>\n",
       "      <td>75255</td>\n",
       "      <td>78235</td>\n",
       "      <td>0.490293</td>\n",
       "    </tr>\n",
       "    <tr>\n",
       "      <th>Males</th>\n",
       "      <td>249080</td>\n",
       "      <td>209155</td>\n",
       "      <td>0.543564</td>\n",
       "    </tr>\n",
       "  </tbody>\n",
       "</table>\n",
       "</div>"
      ],
      "text/plain": [
       "type     cancel  complete  cancel_rate\n",
       "gender                                \n",
       "Females   75255     78235     0.490293\n",
       "Males    249080    209155     0.543564"
      ]
     },
     "execution_count": 17,
     "metadata": {},
     "output_type": "execute_result"
    }
   ],
   "source": [
    "#cancellation rate for each gender\n",
    "df_end = df2_all[df2_all['type'].isin(['cancel','complete'])]\n",
    "\n",
    "#group and sum counts by gender and type\n",
    "gender_summary = df_end.groupby(['gender','type'])['count'].sum().unstack(fill_value=0)\n",
    "\n",
    "#calculate cancellation rate\n",
    "gender_summary['cancel_rate'] = gender_summary['cancel']/(gender_summary['cancel'] + gender_summary['complete'])\n",
    "\n",
    "gender_summary"
   ]
  },
  {
   "cell_type": "code",
   "execution_count": 18,
   "id": "a9fc4a0d",
   "metadata": {},
   "outputs": [
    {
     "data": {
      "image/png": "[encoded data removed]",
      "text/plain": [
       "<Figure size 640x480 with 1 Axes>"
      ]
     },
     "metadata": {},
     "output_type": "display_data"
    }
   ],
   "source": [
    "#plot results\n",
    "sns.set(style='whitegrid')\n",
    "ax = sns.barplot(x=gender_summary.index, y=gender_summary['cancel_rate'])\n",
    "\n",
    "#add labels\n",
    "ax.set_title('Cancellation Rate by Gender')\n",
    "ax.set_ylabel('Cancel rate')\n",
    "ax.set_xlabel('Gender')\n",
    "\n",
    "plt.tight_layout()\n",
    "plt.show()"
   ]
  },
  {
   "cell_type": "markdown",
   "id": "afece859",
   "metadata": {},
   "source": [
    "\n",
    "\n",
    "Key insights:\n",
    "\n",
    "1. Males(54%) have slightly higher cancellation rate than females(49%) suggesting males are  more likely to not complete their apprenticeships than females\n",
    "\n",
    "2. Both genders have high cancellation rates. This could indicate structural issues with support, expectations, job alignment etc.\n",
    "\n",
    "3. There are far more males than females participating in apprenticeship programs. This reflects that males still make up the marjority of trade employment\n"
   ]
  },
  {
   "cell_type": "markdown",
   "id": "ec6b9ba1",
   "metadata": {},
   "source": [
    "## 2.2 Occupation analysis"
   ]
  },
  {
   "cell_type": "code",
   "execution_count": 19,
   "id": "7af3436c",
   "metadata": {
    "scrolled": false
   },
   "outputs": [
    {
     "data": {
      "text/html": [
       "<div>\n",
       "<style scoped>\n",
       "    .dataframe tbody tr th:only-of-type {\n",
       "        vertical-align: middle;\n",
       "    }\n",
       "\n",
       "    .dataframe tbody tr th {\n",
       "        vertical-align: top;\n",
       "    }\n",
       "\n",
       "    .dataframe thead th {\n",
       "        text-align: right;\n",
       "    }\n",
       "</style>\n",
       "<table border=\"1\" class=\"dataframe\">\n",
       "  <thead>\n",
       "    <tr style=\"text-align: right;\">\n",
       "      <th>type</th>\n",
       "      <th>cancel</th>\n",
       "      <th>complete</th>\n",
       "      <th>cancel_rate</th>\n",
       "      <th>abs_count</th>\n",
       "    </tr>\n",
       "    <tr>\n",
       "      <th>occupation</th>\n",
       "      <th></th>\n",
       "      <th></th>\n",
       "      <th></th>\n",
       "      <th></th>\n",
       "    </tr>\n",
       "  </thead>\n",
       "  <tbody>\n",
       "    <tr>\n",
       "      <th>2721 - Counsellors</th>\n",
       "      <td>1725</td>\n",
       "      <td>440</td>\n",
       "      <td>0.796767</td>\n",
       "      <td>2165</td>\n",
       "    </tr>\n",
       "    <tr>\n",
       "      <th>5911 - Purchasing and Supply Logistics Clerks</th>\n",
       "      <td>7645</td>\n",
       "      <td>2935</td>\n",
       "      <td>0.722590</td>\n",
       "      <td>10580</td>\n",
       "    </tr>\n",
       "    <tr>\n",
       "      <th>4314 - Hotel Service Managers</th>\n",
       "      <td>2150</td>\n",
       "      <td>880</td>\n",
       "      <td>0.709571</td>\n",
       "      <td>3030</td>\n",
       "    </tr>\n",
       "    <tr>\n",
       "      <th>3126 - Safety Inspectors</th>\n",
       "      <td>1015</td>\n",
       "      <td>455</td>\n",
       "      <td>0.690476</td>\n",
       "      <td>1470</td>\n",
       "    </tr>\n",
       "    <tr>\n",
       "      <th>3121 - Architectural, Building and Surveying Technicians</th>\n",
       "      <td>1750</td>\n",
       "      <td>800</td>\n",
       "      <td>0.686275</td>\n",
       "      <td>2550</td>\n",
       "    </tr>\n",
       "    <tr>\n",
       "      <th>3511 - Bakers and Pastrycooks</th>\n",
       "      <td>2810</td>\n",
       "      <td>1405</td>\n",
       "      <td>0.666667</td>\n",
       "      <td>4215</td>\n",
       "    </tr>\n",
       "    <tr>\n",
       "      <th>3333 - Roof Tilers</th>\n",
       "      <td>985</td>\n",
       "      <td>495</td>\n",
       "      <td>0.665541</td>\n",
       "      <td>1480</td>\n",
       "    </tr>\n",
       "    <tr>\n",
       "      <th>3514 - Cooks</th>\n",
       "      <td>12420</td>\n",
       "      <td>6265</td>\n",
       "      <td>0.664704</td>\n",
       "      <td>18685</td>\n",
       "    </tr>\n",
       "    <tr>\n",
       "      <th>3321 - Floor Finishers</th>\n",
       "      <td>695</td>\n",
       "      <td>355</td>\n",
       "      <td>0.661905</td>\n",
       "      <td>1050</td>\n",
       "    </tr>\n",
       "    <tr>\n",
       "      <th>6214 - Pharmacy Sales Assistants</th>\n",
       "      <td>2915</td>\n",
       "      <td>1570</td>\n",
       "      <td>0.649944</td>\n",
       "      <td>4485</td>\n",
       "    </tr>\n",
       "    <tr>\n",
       "      <th>3627 - Landscape Gardeners and Irrigation Technicians</th>\n",
       "      <td>4785</td>\n",
       "      <td>2595</td>\n",
       "      <td>0.648374</td>\n",
       "      <td>7380</td>\n",
       "    </tr>\n",
       "    <tr>\n",
       "      <th>6215 - Retail Supervisors</th>\n",
       "      <td>1060</td>\n",
       "      <td>580</td>\n",
       "      <td>0.646341</td>\n",
       "      <td>1640</td>\n",
       "    </tr>\n",
       "    <tr>\n",
       "      <th>6121 - Real Estate Sales Agents</th>\n",
       "      <td>8190</td>\n",
       "      <td>4630</td>\n",
       "      <td>0.638846</td>\n",
       "      <td>12820</td>\n",
       "    </tr>\n",
       "    <tr>\n",
       "      <th>8219 - Other Construction and Mining Labourers</th>\n",
       "      <td>2075</td>\n",
       "      <td>1215</td>\n",
       "      <td>0.630699</td>\n",
       "      <td>3290</td>\n",
       "    </tr>\n",
       "    <tr>\n",
       "      <th>3311 - Bricklayers and Stonemasons</th>\n",
       "      <td>3215</td>\n",
       "      <td>1900</td>\n",
       "      <td>0.628543</td>\n",
       "      <td>5115</td>\n",
       "    </tr>\n",
       "    <tr>\n",
       "      <th>5121 - Office Managers</th>\n",
       "      <td>7175</td>\n",
       "      <td>4260</td>\n",
       "      <td>0.627460</td>\n",
       "      <td>11435</td>\n",
       "    </tr>\n",
       "    <tr>\n",
       "      <th>3322 - Painters</th>\n",
       "      <td>4015</td>\n",
       "      <td>2500</td>\n",
       "      <td>0.616270</td>\n",
       "      <td>6515</td>\n",
       "    </tr>\n",
       "    <tr>\n",
       "      <th>4310 - Hospitality Workers - nfd</th>\n",
       "      <td>24200</td>\n",
       "      <td>15100</td>\n",
       "      <td>0.615776</td>\n",
       "      <td>39300</td>\n",
       "    </tr>\n",
       "    <tr>\n",
       "      <th>3332 - Plasterers and Renderers</th>\n",
       "      <td>2055</td>\n",
       "      <td>1300</td>\n",
       "      <td>0.612519</td>\n",
       "      <td>3355</td>\n",
       "    </tr>\n",
       "    <tr>\n",
       "      <th>3341 - Plumbers</th>\n",
       "      <td>28055</td>\n",
       "      <td>18540</td>\n",
       "      <td>0.602103</td>\n",
       "      <td>46595</td>\n",
       "    </tr>\n",
       "  </tbody>\n",
       "</table>\n",
       "</div>"
      ],
      "text/plain": [
       "type                                                cancel  complete  \\\n",
       "occupation                                                             \n",
       "2721 - Counsellors                                    1725       440   \n",
       "5911 - Purchasing and Supply Logistics Clerks         7645      2935   \n",
       "4314 - Hotel Service Managers                         2150       880   \n",
       "3126 - Safety Inspectors                              1015       455   \n",
       "3121 - Architectural, Building and Surveying Te...    1750       800   \n",
       "3511 - Bakers and Pastrycooks                         2810      1405   \n",
       "3333 - Roof Tilers                                     985       495   \n",
       "3514 - Cooks                                         12420      6265   \n",
       "3321 - Floor Finishers                                 695       355   \n",
       "6214 - Pharmacy Sales Assistants                      2915      1570   \n",
       "3627 - Landscape Gardeners and Irrigation Techn...    4785      2595   \n",
       "6215 - Retail Supervisors                             1060       580   \n",
       "6121 - Real Estate Sales Agents                       8190      4630   \n",
       "8219 - Other Construction and Mining Labourers        2075      1215   \n",
       "3311 - Bricklayers and Stonemasons                    3215      1900   \n",
       "5121 - Office Managers                                7175      4260   \n",
       "3322 - Painters                                       4015      2500   \n",
       "4310 - Hospitality Workers - nfd                     24200     15100   \n",
       "3332 - Plasterers and Renderers                       2055      1300   \n",
       "3341 - Plumbers                                      28055     18540   \n",
       "\n",
       "type                                                cancel_rate  abs_count  \n",
       "occupation                                                                  \n",
       "2721 - Counsellors                                     0.796767       2165  \n",
       "5911 - Purchasing and Supply Logistics Clerks          0.722590      10580  \n",
       "4314 - Hotel Service Managers                          0.709571       3030  \n",
       "3126 - Safety Inspectors                               0.690476       1470  \n",
       "3121 - Architectural, Building and Surveying Te...     0.686275       2550  \n",
       "3511 - Bakers and Pastrycooks                          0.666667       4215  \n",
       "3333 - Roof Tilers                                     0.665541       1480  \n",
       "3514 - Cooks                                           0.664704      18685  \n",
       "3321 - Floor Finishers                                 0.661905       1050  \n",
       "6214 - Pharmacy Sales Assistants                       0.649944       4485  \n",
       "3627 - Landscape Gardeners and Irrigation Techn...     0.648374       7380  \n",
       "6215 - Retail Supervisors                              0.646341       1640  \n",
       "6121 - Real Estate Sales Agents                        0.638846      12820  \n",
       "8219 - Other Construction and Mining Labourers         0.630699       3290  \n",
       "3311 - Bricklayers and Stonemasons                     0.628543       5115  \n",
       "5121 - Office Managers                                 0.627460      11435  \n",
       "3322 - Painters                                        0.616270       6515  \n",
       "4310 - Hospitality Workers - nfd                       0.615776      39300  \n",
       "3332 - Plasterers and Renderers                        0.612519       3355  \n",
       "3341 - Plumbers                                        0.602103      46595  "
      ]
     },
     "execution_count": 19,
     "metadata": {},
     "output_type": "execute_result"
    }
   ],
   "source": [
    "\n",
    "#group and sum counts by occupation and type\n",
    "occ_summary = df_end.groupby(['occupation','type'])['count'].sum().unstack(fill_value=0)\n",
    "\n",
    "#calculate cancellation rate\n",
    "occ_summary['cancel_rate'] = occ_summary['cancel']/(occ_summary['cancel'] + occ_summary['complete'])\n",
    "\n",
    "#absolute count\n",
    "occ_summary['abs_count'] = occ_summary['cancel']+occ_summary['complete']\n",
    "\n",
    "#sort by highest cancellation rate\n",
    "occ_summary = occ_summary.sort_values(by='cancel_rate',ascending=False)\n",
    "\n",
    "#exclude low-volume occupations\n",
    "occ_summary = occ_summary[(occ_summary['cancel']+occ_summary['complete'])>1000]\n",
    "\n",
    "occ_summary.head(20)"
   ]
  },
  {
   "cell_type": "code",
   "execution_count": 20,
   "id": "573f4252",
   "metadata": {},
   "outputs": [
    {
     "data": {
      "image/png": "[encoded data removed]",
      "text/plain": [
       "<Figure size 640x480 with 1 Axes>"
      ]
     },
     "metadata": {},
     "output_type": "display_data"
    }
   ],
   "source": [
    "#plot results\n",
    "\n",
    "top_occ = occ_summary[occ_summary['cancel_rate']>0.5].head(20)\n",
    "\n",
    "ax = sns.barplot(data=top_occ.reset_index(),y='occupation',x='cancel_rate',palette='Reds_r')\n",
    "\n",
    "#add labels\n",
    "ax.set_title('Top 20 Occs by Cancel Rate')\n",
    "ax.set_ylabel('Occupation')\n",
    "ax.set_xlabel('Cancel rate')\n",
    "\n",
    "plt.xlim(0,1)\n",
    "plt.tight_layout()\n",
    "plt.show()"
   ]
  },
  {
   "cell_type": "markdown",
   "id": "568e6f24",
   "metadata": {},
   "source": [
    "Key insights:\n",
    "\n",
    "1. Hospitality and retail are overrepresented. Cooks, retail supervisors, pharmacy sales assistant all appear in the top 20. This can be due to the industry having high staff turnover, involve shift work, high labour and low pay.\n",
    "\n",
    "2. Construction trades such as roof tilers and painters also appear heavily. Possibly driven by physically demanding work or poor work culture? \n",
    "\n",
    "3. High volume count occupations such as plumbers and cooks should be priority targets for rententio strategies"
   ]
  },
  {
   "cell_type": "markdown",
   "id": "deb40c8e",
   "metadata": {},
   "source": [
    "## 2.3 Location analysis "
   ]
  },
  {
   "cell_type": "code",
   "execution_count": 21,
   "id": "9f521174",
   "metadata": {
    "scrolled": true
   },
   "outputs": [
    {
     "data": {
      "text/html": [
       "<div>\n",
       "<style scoped>\n",
       "    .dataframe tbody tr th:only-of-type {\n",
       "        vertical-align: middle;\n",
       "    }\n",
       "\n",
       "    .dataframe tbody tr th {\n",
       "        vertical-align: top;\n",
       "    }\n",
       "\n",
       "    .dataframe thead th {\n",
       "        text-align: right;\n",
       "    }\n",
       "</style>\n",
       "<table border=\"1\" class=\"dataframe\">\n",
       "  <thead>\n",
       "    <tr style=\"text-align: right;\">\n",
       "      <th>type</th>\n",
       "      <th>cancel</th>\n",
       "      <th>complete</th>\n",
       "      <th>cancel_rate</th>\n",
       "      <th>abs_count</th>\n",
       "    </tr>\n",
       "    <tr>\n",
       "      <th>state</th>\n",
       "      <th></th>\n",
       "      <th></th>\n",
       "      <th></th>\n",
       "      <th></th>\n",
       "    </tr>\n",
       "  </thead>\n",
       "  <tbody>\n",
       "    <tr>\n",
       "      <th>NSW</th>\n",
       "      <td>103415</td>\n",
       "      <td>79650</td>\n",
       "      <td>0.564909</td>\n",
       "      <td>183065</td>\n",
       "    </tr>\n",
       "    <tr>\n",
       "      <th>VIC</th>\n",
       "      <td>81790</td>\n",
       "      <td>67085</td>\n",
       "      <td>0.549387</td>\n",
       "      <td>148875</td>\n",
       "    </tr>\n",
       "    <tr>\n",
       "      <th>QLD</th>\n",
       "      <td>79680</td>\n",
       "      <td>73475</td>\n",
       "      <td>0.520257</td>\n",
       "      <td>153155</td>\n",
       "    </tr>\n",
       "    <tr>\n",
       "      <th>WA</th>\n",
       "      <td>32645</td>\n",
       "      <td>31735</td>\n",
       "      <td>0.507067</td>\n",
       "      <td>64380</td>\n",
       "    </tr>\n",
       "    <tr>\n",
       "      <th>ACT</th>\n",
       "      <td>5035</td>\n",
       "      <td>5500</td>\n",
       "      <td>0.477931</td>\n",
       "      <td>10535</td>\n",
       "    </tr>\n",
       "    <tr>\n",
       "      <th>NT</th>\n",
       "      <td>2050</td>\n",
       "      <td>2445</td>\n",
       "      <td>0.456062</td>\n",
       "      <td>4495</td>\n",
       "    </tr>\n",
       "    <tr>\n",
       "      <th>TAS</th>\n",
       "      <td>7040</td>\n",
       "      <td>9075</td>\n",
       "      <td>0.436860</td>\n",
       "      <td>16115</td>\n",
       "    </tr>\n",
       "    <tr>\n",
       "      <th>SA</th>\n",
       "      <td>12680</td>\n",
       "      <td>18425</td>\n",
       "      <td>0.407652</td>\n",
       "      <td>31105</td>\n",
       "    </tr>\n",
       "  </tbody>\n",
       "</table>\n",
       "</div>"
      ],
      "text/plain": [
       "type   cancel  complete  cancel_rate  abs_count\n",
       "state                                          \n",
       "NSW    103415     79650     0.564909     183065\n",
       "VIC     81790     67085     0.549387     148875\n",
       "QLD     79680     73475     0.520257     153155\n",
       "WA      32645     31735     0.507067      64380\n",
       "ACT      5035      5500     0.477931      10535\n",
       "NT       2050      2445     0.456062       4495\n",
       "TAS      7040      9075     0.436860      16115\n",
       "SA      12680     18425     0.407652      31105"
      ]
     },
     "execution_count": 21,
     "metadata": {},
     "output_type": "execute_result"
    }
   ],
   "source": [
    "state_summary = df_end.groupby(['state', 'type'])['count'].sum().unstack(fill_value=0)\n",
    "\n",
    "# Calculate cancellation rate\n",
    "state_summary['cancel_rate'] = state_summary['cancel'] / (state_summary['cancel'] + state_summary['complete'])\n",
    "\n",
    "#absolute count\n",
    "state_summary['abs_count'] = state_summary['cancel']+state_summary['complete']\n",
    "\n",
    "# Sort by cancellation rate (optional)\n",
    "state_summary = state_summary.sort_values('cancel_rate', ascending=False)\n",
    "\n",
    "state_summary"
   ]
  },
  {
   "cell_type": "code",
   "execution_count": 22,
   "id": "f9990224",
   "metadata": {},
   "outputs": [
    {
     "data": {
      "image/png": "[encoded data removed]",
      "text/plain": [
       "<Figure size 640x480 with 1 Axes>"
      ]
     },
     "metadata": {},
     "output_type": "display_data"
    }
   ],
   "source": [
    "#plot results\n",
    "# Reset index for plotting\n",
    "state_plot = state_summary.reset_index()\n",
    "\n",
    "sns.barplot(data=state_plot, x='state', y='cancel_rate', palette='coolwarm')\n",
    "plt.title('Cancellation Rate by State')\n",
    "plt.ylabel('Cancellation Rate')\n",
    "plt.xlabel('State/Territory')\n",
    "plt.ylim(0, 1)\n",
    "plt.xticks(rotation=45)\n",
    "plt.tight_layout()\n",
    "plt.show()"
   ]
  },
  {
   "cell_type": "markdown",
   "id": "a389cdb6",
   "metadata": {},
   "source": [
    "Key insights:\n",
    "1. Larger states (NSW, VIC, QLD) have higher cancellation rates which suggest systematic challenges in managing apprenticeship support and training quality in areas with larger population\n",
    "2. Smaller states have lower cancel rate which could be due to more manageable apprentice-to-support ratios and less occupational variety"
   ]
  },
  {
   "cell_type": "markdown",
   "id": "0da2b1ff",
   "metadata": {},
   "source": [
    "# 3. Build ML model"
   ]
  },
  {
   "cell_type": "markdown",
   "id": "a2cdcd0e",
   "metadata": {},
   "source": [
    "I will build a machine learning model to better understand apprenticeship cancellation in Australia. The model will help identify key drivers of cancellation - such as occupation, gender, and location - and predict which apprentices are most at risk of cancelling. "
   ]
  },
  {
   "cell_type": "code",
   "execution_count": 23,
   "id": "d97caa69",
   "metadata": {},
   "outputs": [],
   "source": [
    "#import libraries\n",
    "from sklearn.model_selection import train_test_split\n",
    "from sklearn.preprocessing import OneHotEncoder\n",
    "from sklearn.compose import ColumnTransformer\n",
    "from sklearn.pipeline import Pipeline\n",
    "from sklearn.ensemble import RandomForestClassifier\n",
    "from sklearn.metrics import classification_report, confusion_matrix, roc_auc_score\n",
    "from sklearn.linear_model import LogisticRegression"
   ]
  },
  {
   "cell_type": "code",
   "execution_count": 29,
   "id": "323e96e7",
   "metadata": {},
   "outputs": [],
   "source": [
    "#Define features and target\n",
    "categorical_features = ['occupation', 'gender', 'year', 'quarter', 'state']\n",
    "X = df2_all[categorical_features]\n",
    "y = df2_all['cancel']\n",
    "weights = df2_all['count']  # Need pipeline to account for the count of each row value"
   ]
  },
  {
   "cell_type": "code",
   "execution_count": 30,
   "id": "b8b53f50",
   "metadata": {},
   "outputs": [],
   "source": [
    "#Preprocessing (OneHotEncoder for categorical variables)\n",
    "preprocessor = ColumnTransformer(\n",
    "    transformers=[\n",
    "        ('cat', OneHotEncoder(handle_unknown='ignore'), categorical_features)\n",
    "    ],\n",
    "    remainder='drop'  # No numeric features to passthrough\n",
    ")"
   ]
  },
  {
   "cell_type": "code",
   "execution_count": 31,
   "id": "c4bb89b6",
   "metadata": {},
   "outputs": [],
   "source": [
    "# Create pipeline\n",
    "model = Pipeline(steps=[\n",
    "    ('preprocessor', preprocessor),\n",
    "    ('classifier', LogisticRegression(max_iter=1000, class_weight=None))  # We'll use sample_weight instead\n",
    "])"
   ]
  },
  {
   "cell_type": "code",
   "execution_count": 36,
   "id": "c93d0ea4",
   "metadata": {},
   "outputs": [
    {
     "data": {
      "text/html": [
       "<style>#sk-container-id-3 {color: black;}#sk-container-id-3 pre{padding: 0;}#sk-container-id-3 div.sk-toggleable {background-color: white;}#sk-container-id-3 label.sk-toggleable__label {cursor: pointer;display: block;width: 100%;margin-bottom: 0;padding: 0.3em;box-sizing: border-box;text-align: center;}#sk-container-id-3 label.sk-toggleable__label-arrow:before {content: \"▸\";float: left;margin-right: 0.25em;color: #696969;}#sk-container-id-3 label.sk-toggleable__label-arrow:hover:before {color: black;}#sk-container-id-3 div.sk-estimator:hover label.sk-toggleable__label-arrow:before {color: black;}#sk-container-id-3 div.sk-toggleable__content {max-height: 0;max-width: 0;overflow: hidden;text-align: left;background-color: #f0f8ff;}#sk-container-id-3 div.sk-toggleable__content pre {margin: 0.2em;color: black;border-radius: 0.25em;background-color: #f0f8ff;}#sk-container-id-3 input.sk-toggleable__control:checked~div.sk-toggleable__content {max-height: 200px;max-width: 100%;overflow: auto;}#sk-container-id-3 input.sk-toggleable__control:checked~label.sk-toggleable__label-arrow:before {content: \"▾\";}#sk-container-id-3 div.sk-estimator input.sk-toggleable__control:checked~label.sk-toggleable__label {background-color: #d4ebff;}#sk-container-id-3 div.sk-label input.sk-toggleable__control:checked~label.sk-toggleable__label {background-color: #d4ebff;}#sk-container-id-3 input.sk-hidden--visually {border: 0;clip: rect(1px 1px 1px 1px);clip: rect(1px, 1px, 1px, 1px);height: 1px;margin: -1px;overflow: hidden;padding: 0;position: absolute;width: 1px;}#sk-container-id-3 div.sk-estimator {font-family: monospace;background-color: #f0f8ff;border: 1px dotted black;border-radius: 0.25em;box-sizing: border-box;margin-bottom: 0.5em;}#sk-container-id-3 div.sk-estimator:hover {background-color: #d4ebff;}#sk-container-id-3 div.sk-parallel-item::after {content: \"\";width: 100%;border-bottom: 1px solid gray;flex-grow: 1;}#sk-container-id-3 div.sk-label:hover label.sk-toggleable__label {background-color: #d4ebff;}#sk-container-id-3 div.sk-serial::before {content: \"\";position: absolute;border-left: 1px solid gray;box-sizing: border-box;top: 0;bottom: 0;left: 50%;z-index: 0;}#sk-container-id-3 div.sk-serial {display: flex;flex-direction: column;align-items: center;background-color: white;padding-right: 0.2em;padding-left: 0.2em;position: relative;}#sk-container-id-3 div.sk-item {position: relative;z-index: 1;}#sk-container-id-3 div.sk-parallel {display: flex;align-items: stretch;justify-content: center;background-color: white;position: relative;}#sk-container-id-3 div.sk-item::before, #sk-container-id-3 div.sk-parallel-item::before {content: \"\";position: absolute;border-left: 1px solid gray;box-sizing: border-box;top: 0;bottom: 0;left: 50%;z-index: -1;}#sk-container-id-3 div.sk-parallel-item {display: flex;flex-direction: column;z-index: 1;position: relative;background-color: white;}#sk-container-id-3 div.sk-parallel-item:first-child::after {align-self: flex-end;width: 50%;}#sk-container-id-3 div.sk-parallel-item:last-child::after {align-self: flex-start;width: 50%;}#sk-container-id-3 div.sk-parallel-item:only-child::after {width: 0;}#sk-container-id-3 div.sk-dashed-wrapped {border: 1px dashed gray;margin: 0 0.4em 0.5em 0.4em;box-sizing: border-box;padding-bottom: 0.4em;background-color: white;}#sk-container-id-3 div.sk-label label {font-family: monospace;font-weight: bold;display: inline-block;line-height: 1.2em;}#sk-container-id-3 div.sk-label-container {text-align: center;}#sk-container-id-3 div.sk-container {/* jupyter's `normalize.less` sets `[hidden] { display: none; }` but bootstrap.min.css set `[hidden] { display: none !important; }` so we also need the `!important` here to be able to override the default hidden behavior on the sphinx rendered scikit-learn.org. See: https://github.com/scikit-learn/scikit-learn/issues/21755 */display: inline-block !important;position: relative;}#sk-container-id-3 div.sk-text-repr-fallback {display: none;}</style><div id=\"sk-container-id-3\" class=\"sk-top-container\"><div class=\"sk-text-repr-fallback\"><pre>Pipeline(steps=[(&#x27;preprocessor&#x27;,\n",
       "                 ColumnTransformer(transformers=[(&#x27;cat&#x27;,\n",
       "                                                  OneHotEncoder(handle_unknown=&#x27;ignore&#x27;),\n",
       "                                                  [&#x27;occupation&#x27;, &#x27;gender&#x27;,\n",
       "                                                   &#x27;year&#x27;, &#x27;quarter&#x27;,\n",
       "                                                   &#x27;state&#x27;])])),\n",
       "                (&#x27;classifier&#x27;, LogisticRegression(max_iter=1000))])</pre><b>In a Jupyter environment, please rerun this cell to show the HTML representation or trust the notebook. <br />On GitHub, the HTML representation is unable to render, please try loading this page with nbviewer.org.</b></div><div class=\"sk-container\" hidden><div class=\"sk-item sk-dashed-wrapped\"><div class=\"sk-label-container\"><div class=\"sk-label sk-toggleable\"><input class=\"sk-toggleable__control sk-hidden--visually\" id=\"sk-estimator-id-13\" type=\"checkbox\" ><label for=\"sk-estimator-id-13\" class=\"sk-toggleable__label sk-toggleable__label-arrow\">Pipeline</label><div class=\"sk-toggleable__content\"><pre>Pipeline(steps=[(&#x27;preprocessor&#x27;,\n",
       "                 ColumnTransformer(transformers=[(&#x27;cat&#x27;,\n",
       "                                                  OneHotEncoder(handle_unknown=&#x27;ignore&#x27;),\n",
       "                                                  [&#x27;occupation&#x27;, &#x27;gender&#x27;,\n",
       "                                                   &#x27;year&#x27;, &#x27;quarter&#x27;,\n",
       "                                                   &#x27;state&#x27;])])),\n",
       "                (&#x27;classifier&#x27;, LogisticRegression(max_iter=1000))])</pre></div></div></div><div class=\"sk-serial\"><div class=\"sk-item sk-dashed-wrapped\"><div class=\"sk-label-container\"><div class=\"sk-label sk-toggleable\"><input class=\"sk-toggleable__control sk-hidden--visually\" id=\"sk-estimator-id-14\" type=\"checkbox\" ><label for=\"sk-estimator-id-14\" class=\"sk-toggleable__label sk-toggleable__label-arrow\">preprocessor: ColumnTransformer</label><div class=\"sk-toggleable__content\"><pre>ColumnTransformer(transformers=[(&#x27;cat&#x27;, OneHotEncoder(handle_unknown=&#x27;ignore&#x27;),\n",
       "                                 [&#x27;occupation&#x27;, &#x27;gender&#x27;, &#x27;year&#x27;, &#x27;quarter&#x27;,\n",
       "                                  &#x27;state&#x27;])])</pre></div></div></div><div class=\"sk-parallel\"><div class=\"sk-parallel-item\"><div class=\"sk-item\"><div class=\"sk-label-container\"><div class=\"sk-label sk-toggleable\"><input class=\"sk-toggleable__control sk-hidden--visually\" id=\"sk-estimator-id-15\" type=\"checkbox\" ><label for=\"sk-estimator-id-15\" class=\"sk-toggleable__label sk-toggleable__label-arrow\">cat</label><div class=\"sk-toggleable__content\"><pre>[&#x27;occupation&#x27;, &#x27;gender&#x27;, &#x27;year&#x27;, &#x27;quarter&#x27;, &#x27;state&#x27;]</pre></div></div></div><div class=\"sk-serial\"><div class=\"sk-item\"><div class=\"sk-estimator sk-toggleable\"><input class=\"sk-toggleable__control sk-hidden--visually\" id=\"sk-estimator-id-16\" type=\"checkbox\" ><label for=\"sk-estimator-id-16\" class=\"sk-toggleable__label sk-toggleable__label-arrow\">OneHotEncoder</label><div class=\"sk-toggleable__content\"><pre>OneHotEncoder(handle_unknown=&#x27;ignore&#x27;)</pre></div></div></div></div></div></div></div></div><div class=\"sk-item\"><div class=\"sk-estimator sk-toggleable\"><input class=\"sk-toggleable__control sk-hidden--visually\" id=\"sk-estimator-id-17\" type=\"checkbox\" ><label for=\"sk-estimator-id-17\" class=\"sk-toggleable__label sk-toggleable__label-arrow\">LogisticRegression</label><div class=\"sk-toggleable__content\"><pre>LogisticRegression(max_iter=1000)</pre></div></div></div></div></div></div></div>"
      ],
      "text/plain": [
       "Pipeline(steps=[('preprocessor',\n",
       "                 ColumnTransformer(transformers=[('cat',\n",
       "                                                  OneHotEncoder(handle_unknown='ignore'),\n",
       "                                                  ['occupation', 'gender',\n",
       "                                                   'year', 'quarter',\n",
       "                                                   'state'])])),\n",
       "                ('classifier', LogisticRegression(max_iter=1000))])"
      ]
     },
     "execution_count": 36,
     "metadata": {},
     "output_type": "execute_result"
    }
   ],
   "source": [
    "# Train-test split\n",
    "X_train, X_test, y_train, y_test, weights_train, weights_test = train_test_split(\n",
    "    X, y, weights, test_size=0.2, stratify=y, random_state=42\n",
    ")\n",
    "\n",
    "# Fit model with weights\n",
    "model.fit(X_train, y_train, classifier__sample_weight=weights_train)"
   ]
  },
  {
   "cell_type": "code",
   "execution_count": 33,
   "id": "c6de19f3",
   "metadata": {},
   "outputs": [
    {
     "name": "stdout",
     "output_type": "stream",
     "text": [
      "              precision    recall  f1-score   support\n",
      "\n",
      "           0       0.68      0.93      0.79      3776\n",
      "           1       0.53      0.16      0.25      1941\n",
      "\n",
      "    accuracy                           0.67      5717\n",
      "   macro avg       0.60      0.54      0.52      5717\n",
      "weighted avg       0.63      0.67      0.60      5717\n",
      "\n",
      "ROC AUC: 0.6158241891083576\n"
     ]
    },
    {
     "data": {
      "image/png": "[encoded data removed]",
      "text/plain": [
       "<Figure size 640x480 with 2 Axes>"
      ]
     },
     "metadata": {},
     "output_type": "display_data"
    }
   ],
   "source": [
    "# Evaluate model\n",
    "y_pred = model.predict(X_test)\n",
    "y_proba = model.predict_proba(X_test)[:, 1]\n",
    "\n",
    "print(classification_report(y_test, y_pred))\n",
    "print(\"ROC AUC:\", roc_auc_score(y_test, y_proba))\n",
    "\n",
    "# Plot confusion matrix\n",
    "conf_matrix = confusion_matrix(y_test, y_pred)\n",
    "sns.heatmap(conf_matrix, annot=True, fmt='d', cmap='Blues')\n",
    "plt.xlabel(\"Predicted\")\n",
    "plt.ylabel(\"Actual\")\n",
    "plt.title(\"Confusion Matrix\")\n",
    "plt.show()"
   ]
  },
  {
   "cell_type": "markdown",
   "id": "9bf805cf",
   "metadata": {},
   "source": [
    "Summary of ML model:\n",
    "\n",
    "We trained the logistic regression model to predict the likelihood of an apprentice cancelling their training contract based on the available features.\n",
    "The model performs well in predicting completions (68% precision) however struggles to identify cancellations (53% precision).\n",
    "ROC AUC score is 0.62 suggesting model has limited ability to distinguish between apprentice who cancel and those who complete. This may be due to insufficient predictive features."
   ]
  },
  {
   "cell_type": "markdown",
   "id": "761a6f2d",
   "metadata": {},
   "source": [
    "# Conclusion\n",
    "\n",
    "EDA Findings\n",
    "\n",
    "Gender: Males had slightly higher cancellation rate (54%) compared to females (49%)\n",
    "State: NSW and VIC had the highest cancellation rates (~55-56%), while SA had the lowest (41%)\n",
    "Occupation: Roles in the hospitality sector had notably high cancellation rates\n",
    "\n",
    "ML Model\n",
    "\n",
    "The model struggled to identify cancelled apprenticeships (many false negatives). Suggest re testing with different model or using other predictive features."
   ]
  }
 ],
 "metadata": {
  "kernelspec": {
   "display_name": "Python 3 (ipykernel)",
   "language": "python",
   "name": "python3"
  },
  "language_info": {
   "codemirror_mode": {
    "name": "ipython",
    "version": 3
   },
   "file_extension": ".py",
   "mimetype": "text/x-python",
   "name": "python",
   "nbconvert_exporter": "python",
   "pygments_lexer": "ipython3",
   "version": "3.11.5"
  }
 },
 "nbformat": 4,
 "nbformat_minor": 5
}
